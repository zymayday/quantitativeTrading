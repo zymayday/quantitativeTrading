{
 "cells": [
  {
   "attachments": {},
   "cell_type": "markdown",
   "metadata": {},
   "source": [
    "Get the stock price for Microsoft from yahoo finance and apply the Close Low and High Low\n",
    " trading strategy to the period from the year of 2020 to 2023"
   ]
  },
  {
   "cell_type": "code",
   "execution_count": 191,
   "metadata": {},
   "outputs": [],
   "source": [
    "from datetime import datetime\n",
    "import pandas as pd"
   ]
  },
  {
   "cell_type": "code",
   "execution_count": 192,
   "metadata": {},
   "outputs": [],
   "source": [
    "'''Convert date to the epoch time'''\n",
    "def date_to_epoch(date):\n",
    "    return int(date.timestamp())"
   ]
  },
  {
   "cell_type": "code",
   "execution_count": 193,
   "metadata": {},
   "outputs": [],
   "source": [
    "'''Get the public stock price data for a given ticker'''\n",
    "def get_stock_price(ticker:str, start_date :datetime = None, end_date :datetime = None) -> pd.DataFrame:\n",
    "    if not start_date:\n",
    "        start_date = datetime(2020, 1, 1)\n",
    "    if not end_date:\n",
    "        end_date = datetime.now()\n",
    "\n",
    "    url = f\"https://query1.finance.yahoo.com/v7/finance/download/{ticker}?period1={date_to_epoch(start_date)}&period2={date_to_epoch(end_date)}&interval=1d&events=history&includeAdjustedClose=true\"\n",
    "    df = pd.read_csv(url)\n",
    "    df = df.set_index(\"Date\")\n",
    "    df.index = pd.to_datetime(df.index)\n",
    "    return df\n",
    "        "
   ]
  },
  {
   "cell_type": "code",
   "execution_count": 194,
   "metadata": {},
   "outputs": [],
   "source": [
    "df_data = get_stock_price(\"MSFT\")"
   ]
  },
  {
   "cell_type": "code",
   "execution_count": 195,
   "metadata": {},
   "outputs": [
    {
     "name": "stdout",
     "output_type": "stream",
     "text": [
      "<class 'pandas.core.frame.DataFrame'>\n",
      "DatetimeIndex: 846 entries, 2019-12-31 to 2023-05-10\n",
      "Data columns (total 6 columns):\n",
      " #   Column     Non-Null Count  Dtype  \n",
      "---  ------     --------------  -----  \n",
      " 0   Open       846 non-null    float64\n",
      " 1   High       846 non-null    float64\n",
      " 2   Low        846 non-null    float64\n",
      " 3   Close      846 non-null    float64\n",
      " 4   Adj Close  846 non-null    float64\n",
      " 5   Volume     846 non-null    int64  \n",
      "dtypes: float64(5), int64(1)\n",
      "memory usage: 46.3 KB\n"
     ]
    }
   ],
   "source": [
    "df_data.info()"
   ]
  },
  {
   "cell_type": "code",
   "execution_count": 196,
   "metadata": {},
   "outputs": [
    {
     "data": {
      "text/html": [
       "<div>\n",
       "<style scoped>\n",
       "    .dataframe tbody tr th:only-of-type {\n",
       "        vertical-align: middle;\n",
       "    }\n",
       "\n",
       "    .dataframe tbody tr th {\n",
       "        vertical-align: top;\n",
       "    }\n",
       "\n",
       "    .dataframe thead th {\n",
       "        text-align: right;\n",
       "    }\n",
       "</style>\n",
       "<table border=\"1\" class=\"dataframe\">\n",
       "  <thead>\n",
       "    <tr style=\"text-align: right;\">\n",
       "      <th></th>\n",
       "      <th>Open</th>\n",
       "      <th>High</th>\n",
       "      <th>Low</th>\n",
       "      <th>Close</th>\n",
       "      <th>Adj Close</th>\n",
       "      <th>Volume</th>\n",
       "    </tr>\n",
       "    <tr>\n",
       "      <th>Date</th>\n",
       "      <th></th>\n",
       "      <th></th>\n",
       "      <th></th>\n",
       "      <th></th>\n",
       "      <th></th>\n",
       "      <th></th>\n",
       "    </tr>\n",
       "  </thead>\n",
       "  <tbody>\n",
       "    <tr>\n",
       "      <th>2019-12-31</th>\n",
       "      <td>156.770004</td>\n",
       "      <td>157.770004</td>\n",
       "      <td>156.449997</td>\n",
       "      <td>157.699997</td>\n",
       "      <td>152.930130</td>\n",
       "      <td>18369400</td>\n",
       "    </tr>\n",
       "    <tr>\n",
       "      <th>2020-01-02</th>\n",
       "      <td>158.779999</td>\n",
       "      <td>160.729996</td>\n",
       "      <td>158.330002</td>\n",
       "      <td>160.619995</td>\n",
       "      <td>155.761810</td>\n",
       "      <td>22622100</td>\n",
       "    </tr>\n",
       "    <tr>\n",
       "      <th>2020-01-03</th>\n",
       "      <td>158.320007</td>\n",
       "      <td>159.949997</td>\n",
       "      <td>158.059998</td>\n",
       "      <td>158.619995</td>\n",
       "      <td>153.822296</td>\n",
       "      <td>21116200</td>\n",
       "    </tr>\n",
       "    <tr>\n",
       "      <th>2020-01-06</th>\n",
       "      <td>157.080002</td>\n",
       "      <td>159.100006</td>\n",
       "      <td>156.509995</td>\n",
       "      <td>159.029999</td>\n",
       "      <td>154.219894</td>\n",
       "      <td>20813700</td>\n",
       "    </tr>\n",
       "    <tr>\n",
       "      <th>2020-01-07</th>\n",
       "      <td>159.320007</td>\n",
       "      <td>159.669998</td>\n",
       "      <td>157.320007</td>\n",
       "      <td>157.580002</td>\n",
       "      <td>152.813766</td>\n",
       "      <td>21634100</td>\n",
       "    </tr>\n",
       "  </tbody>\n",
       "</table>\n",
       "</div>"
      ],
      "text/plain": [
       "                  Open        High         Low       Close   Adj Close  \\\n",
       "Date                                                                     \n",
       "2019-12-31  156.770004  157.770004  156.449997  157.699997  152.930130   \n",
       "2020-01-02  158.779999  160.729996  158.330002  160.619995  155.761810   \n",
       "2020-01-03  158.320007  159.949997  158.059998  158.619995  153.822296   \n",
       "2020-01-06  157.080002  159.100006  156.509995  159.029999  154.219894   \n",
       "2020-01-07  159.320007  159.669998  157.320007  157.580002  152.813766   \n",
       "\n",
       "              Volume  \n",
       "Date                  \n",
       "2019-12-31  18369400  \n",
       "2020-01-02  22622100  \n",
       "2020-01-03  21116200  \n",
       "2020-01-06  20813700  \n",
       "2020-01-07  21634100  "
      ]
     },
     "execution_count": 196,
     "metadata": {},
     "output_type": "execute_result"
    }
   ],
   "source": [
    "'''Inspect the data'''\n",
    "df_data.head()"
   ]
  },
  {
   "cell_type": "code",
   "execution_count": 197,
   "metadata": {},
   "outputs": [
    {
     "data": {
      "text/html": [
       "<div>\n",
       "<style scoped>\n",
       "    .dataframe tbody tr th:only-of-type {\n",
       "        vertical-align: middle;\n",
       "    }\n",
       "\n",
       "    .dataframe tbody tr th {\n",
       "        vertical-align: top;\n",
       "    }\n",
       "\n",
       "    .dataframe thead th {\n",
       "        text-align: right;\n",
       "    }\n",
       "</style>\n",
       "<table border=\"1\" class=\"dataframe\">\n",
       "  <thead>\n",
       "    <tr style=\"text-align: right;\">\n",
       "      <th></th>\n",
       "      <th>Open</th>\n",
       "      <th>High</th>\n",
       "      <th>Low</th>\n",
       "      <th>Close</th>\n",
       "      <th>Adj Close</th>\n",
       "      <th>Volume</th>\n",
       "    </tr>\n",
       "    <tr>\n",
       "      <th>Date</th>\n",
       "      <th></th>\n",
       "      <th></th>\n",
       "      <th></th>\n",
       "      <th></th>\n",
       "      <th></th>\n",
       "      <th></th>\n",
       "    </tr>\n",
       "  </thead>\n",
       "  <tbody>\n",
       "    <tr>\n",
       "      <th>2023-05-04</th>\n",
       "      <td>306.239990</td>\n",
       "      <td>307.760010</td>\n",
       "      <td>303.399994</td>\n",
       "      <td>305.410004</td>\n",
       "      <td>305.410004</td>\n",
       "      <td>22519900</td>\n",
       "    </tr>\n",
       "    <tr>\n",
       "      <th>2023-05-05</th>\n",
       "      <td>305.720001</td>\n",
       "      <td>311.970001</td>\n",
       "      <td>304.269989</td>\n",
       "      <td>310.649994</td>\n",
       "      <td>310.649994</td>\n",
       "      <td>28181200</td>\n",
       "    </tr>\n",
       "    <tr>\n",
       "      <th>2023-05-08</th>\n",
       "      <td>310.130005</td>\n",
       "      <td>310.200012</td>\n",
       "      <td>306.089996</td>\n",
       "      <td>308.649994</td>\n",
       "      <td>308.649994</td>\n",
       "      <td>21318600</td>\n",
       "    </tr>\n",
       "    <tr>\n",
       "      <th>2023-05-09</th>\n",
       "      <td>308.000000</td>\n",
       "      <td>310.040009</td>\n",
       "      <td>306.309998</td>\n",
       "      <td>307.000000</td>\n",
       "      <td>307.000000</td>\n",
       "      <td>21340800</td>\n",
       "    </tr>\n",
       "    <tr>\n",
       "      <th>2023-05-10</th>\n",
       "      <td>308.619995</td>\n",
       "      <td>313.000000</td>\n",
       "      <td>307.670013</td>\n",
       "      <td>312.309998</td>\n",
       "      <td>312.309998</td>\n",
       "      <td>30058700</td>\n",
       "    </tr>\n",
       "  </tbody>\n",
       "</table>\n",
       "</div>"
      ],
      "text/plain": [
       "                  Open        High         Low       Close   Adj Close  \\\n",
       "Date                                                                     \n",
       "2023-05-04  306.239990  307.760010  303.399994  305.410004  305.410004   \n",
       "2023-05-05  305.720001  311.970001  304.269989  310.649994  310.649994   \n",
       "2023-05-08  310.130005  310.200012  306.089996  308.649994  308.649994   \n",
       "2023-05-09  308.000000  310.040009  306.309998  307.000000  307.000000   \n",
       "2023-05-10  308.619995  313.000000  307.670013  312.309998  312.309998   \n",
       "\n",
       "              Volume  \n",
       "Date                  \n",
       "2023-05-04  22519900  \n",
       "2023-05-05  28181200  \n",
       "2023-05-08  21318600  \n",
       "2023-05-09  21340800  \n",
       "2023-05-10  30058700  "
      ]
     },
     "execution_count": 197,
     "metadata": {},
     "output_type": "execute_result"
    }
   ],
   "source": [
    "df_data.tail()"
   ]
  },
  {
   "cell_type": "code",
   "execution_count": 198,
   "metadata": {},
   "outputs": [
    {
     "data": {
      "text/html": [
       "<div>\n",
       "<style scoped>\n",
       "    .dataframe tbody tr th:only-of-type {\n",
       "        vertical-align: middle;\n",
       "    }\n",
       "\n",
       "    .dataframe tbody tr th {\n",
       "        vertical-align: top;\n",
       "    }\n",
       "\n",
       "    .dataframe thead th {\n",
       "        text-align: right;\n",
       "    }\n",
       "</style>\n",
       "<table border=\"1\" class=\"dataframe\">\n",
       "  <thead>\n",
       "    <tr style=\"text-align: right;\">\n",
       "      <th></th>\n",
       "      <th>Open</th>\n",
       "      <th>High</th>\n",
       "      <th>Low</th>\n",
       "      <th>Close</th>\n",
       "      <th>Adj Close</th>\n",
       "      <th>Volume</th>\n",
       "    </tr>\n",
       "  </thead>\n",
       "  <tbody>\n",
       "    <tr>\n",
       "      <th>count</th>\n",
       "      <td>846.000000</td>\n",
       "      <td>846.000000</td>\n",
       "      <td>846.000000</td>\n",
       "      <td>846.000000</td>\n",
       "      <td>846.000000</td>\n",
       "      <td>8.460000e+02</td>\n",
       "    </tr>\n",
       "    <tr>\n",
       "      <th>mean</th>\n",
       "      <td>247.861773</td>\n",
       "      <td>250.659421</td>\n",
       "      <td>245.032198</td>\n",
       "      <td>247.975284</td>\n",
       "      <td>244.652459</td>\n",
       "      <td>3.157430e+07</td>\n",
       "    </tr>\n",
       "    <tr>\n",
       "      <th>std</th>\n",
       "      <td>46.223478</td>\n",
       "      <td>46.268578</td>\n",
       "      <td>45.952672</td>\n",
       "      <td>46.161131</td>\n",
       "      <td>46.731585</td>\n",
       "      <td>1.327562e+07</td>\n",
       "    </tr>\n",
       "    <tr>\n",
       "      <th>min</th>\n",
       "      <td>137.009995</td>\n",
       "      <td>140.570007</td>\n",
       "      <td>132.520004</td>\n",
       "      <td>135.419998</td>\n",
       "      <td>131.682724</td>\n",
       "      <td>9.200800e+06</td>\n",
       "    </tr>\n",
       "    <tr>\n",
       "      <th>25%</th>\n",
       "      <td>214.397495</td>\n",
       "      <td>216.372498</td>\n",
       "      <td>212.502506</td>\n",
       "      <td>214.330005</td>\n",
       "      <td>209.931278</td>\n",
       "      <td>2.287220e+07</td>\n",
       "    </tr>\n",
       "    <tr>\n",
       "      <th>50%</th>\n",
       "      <td>247.964996</td>\n",
       "      <td>251.099998</td>\n",
       "      <td>245.834999</td>\n",
       "      <td>248.945000</td>\n",
       "      <td>246.910888</td>\n",
       "      <td>2.833020e+07</td>\n",
       "    </tr>\n",
       "    <tr>\n",
       "      <th>75%</th>\n",
       "      <td>284.650010</td>\n",
       "      <td>287.802505</td>\n",
       "      <td>280.572487</td>\n",
       "      <td>284.267494</td>\n",
       "      <td>281.757431</td>\n",
       "      <td>3.540562e+07</td>\n",
       "    </tr>\n",
       "    <tr>\n",
       "      <th>max</th>\n",
       "      <td>344.619995</td>\n",
       "      <td>349.670013</td>\n",
       "      <td>342.200012</td>\n",
       "      <td>343.109985</td>\n",
       "      <td>339.075531</td>\n",
       "      <td>9.701270e+07</td>\n",
       "    </tr>\n",
       "  </tbody>\n",
       "</table>\n",
       "</div>"
      ],
      "text/plain": [
       "             Open        High         Low       Close   Adj Close  \\\n",
       "count  846.000000  846.000000  846.000000  846.000000  846.000000   \n",
       "mean   247.861773  250.659421  245.032198  247.975284  244.652459   \n",
       "std     46.223478   46.268578   45.952672   46.161131   46.731585   \n",
       "min    137.009995  140.570007  132.520004  135.419998  131.682724   \n",
       "25%    214.397495  216.372498  212.502506  214.330005  209.931278   \n",
       "50%    247.964996  251.099998  245.834999  248.945000  246.910888   \n",
       "75%    284.650010  287.802505  280.572487  284.267494  281.757431   \n",
       "max    344.619995  349.670013  342.200012  343.109985  339.075531   \n",
       "\n",
       "             Volume  \n",
       "count  8.460000e+02  \n",
       "mean   3.157430e+07  \n",
       "std    1.327562e+07  \n",
       "min    9.200800e+06  \n",
       "25%    2.287220e+07  \n",
       "50%    2.833020e+07  \n",
       "75%    3.540562e+07  \n",
       "max    9.701270e+07  "
      ]
     },
     "execution_count": 198,
     "metadata": {},
     "output_type": "execute_result"
    }
   ],
   "source": [
    "df_data.describe()"
   ]
  },
  {
   "cell_type": "code",
   "execution_count": 199,
   "metadata": {},
   "outputs": [
    {
     "data": {
      "text/plain": [
       "<Axes: xlabel='Date'>"
      ]
     },
     "execution_count": 199,
     "metadata": {},
     "output_type": "execute_result"
    },
    {
     "data": {
      "image/png": "[encoded data removed]",
      "text/plain": [
       "<Figure size 640x480 with 1 Axes>"
      ]
     },
     "metadata": {},
     "output_type": "display_data"
    }
   ],
   "source": [
    "df_data['Close'].plot()"
   ]
  },
  {
   "attachments": {},
   "cell_type": "markdown",
   "metadata": {},
   "source": [
    "We generate the trading strategy base on the CLHL. \n",
    "It is the close price minus the low price divided by the high price minus the low price.\n",
    "\n",
    "Define the threshold and if the clhl is lower than the threshold, buy the stock, otherwise sell the stock.\n"
   ]
  },
  {
   "cell_type": "code",
   "execution_count": 200,
   "metadata": {},
   "outputs": [],
   "source": [
    "clhl_threshold = 0.5\n",
    "tc = 0.005  # assuming the transaction cost\n",
    "df_data['CLHL'] = (df_data['Close'] - df_data['Low']) / (df_data['High'] - df_data['Low'])\n",
    "df_data['Return'] = df_data['Close'].pct_change()"
   ]
  },
  {
   "cell_type": "code",
   "execution_count": 201,
   "metadata": {},
   "outputs": [],
   "source": [
    "df_data['holding'] = df_data['CLHL'] < clhl_threshold\n",
    "df_data['holding'] = df_data['holding'].astype(int)\n",
    "df_data['holding-1'] = df_data['holding'].shift(1)"
   ]
  },
  {
   "cell_type": "code",
   "execution_count": 202,
   "metadata": {},
   "outputs": [
    {
     "data": {
      "text/html": [
       "<div>\n",
       "<style scoped>\n",
       "    .dataframe tbody tr th:only-of-type {\n",
       "        vertical-align: middle;\n",
       "    }\n",
       "\n",
       "    .dataframe tbody tr th {\n",
       "        vertical-align: top;\n",
       "    }\n",
       "\n",
       "    .dataframe thead th {\n",
       "        text-align: right;\n",
       "    }\n",
       "</style>\n",
       "<table border=\"1\" class=\"dataframe\">\n",
       "  <thead>\n",
       "    <tr style=\"text-align: right;\">\n",
       "      <th></th>\n",
       "      <th>Open</th>\n",
       "      <th>High</th>\n",
       "      <th>Low</th>\n",
       "      <th>Close</th>\n",
       "      <th>Adj Close</th>\n",
       "      <th>Volume</th>\n",
       "      <th>CLHL</th>\n",
       "      <th>Return</th>\n",
       "      <th>holding</th>\n",
       "      <th>holding-1</th>\n",
       "    </tr>\n",
       "    <tr>\n",
       "      <th>Date</th>\n",
       "      <th></th>\n",
       "      <th></th>\n",
       "      <th></th>\n",
       "      <th></th>\n",
       "      <th></th>\n",
       "      <th></th>\n",
       "      <th></th>\n",
       "      <th></th>\n",
       "      <th></th>\n",
       "      <th></th>\n",
       "    </tr>\n",
       "  </thead>\n",
       "  <tbody>\n",
       "    <tr>\n",
       "      <th>2019-12-31</th>\n",
       "      <td>156.770004</td>\n",
       "      <td>157.770004</td>\n",
       "      <td>156.449997</td>\n",
       "      <td>157.699997</td>\n",
       "      <td>152.930130</td>\n",
       "      <td>18369400</td>\n",
       "      <td>0.946965</td>\n",
       "      <td>NaN</td>\n",
       "      <td>0</td>\n",
       "      <td>NaN</td>\n",
       "    </tr>\n",
       "    <tr>\n",
       "      <th>2020-01-02</th>\n",
       "      <td>158.779999</td>\n",
       "      <td>160.729996</td>\n",
       "      <td>158.330002</td>\n",
       "      <td>160.619995</td>\n",
       "      <td>155.761810</td>\n",
       "      <td>22622100</td>\n",
       "      <td>0.954166</td>\n",
       "      <td>0.018516</td>\n",
       "      <td>0</td>\n",
       "      <td>0.0</td>\n",
       "    </tr>\n",
       "    <tr>\n",
       "      <th>2020-01-03</th>\n",
       "      <td>158.320007</td>\n",
       "      <td>159.949997</td>\n",
       "      <td>158.059998</td>\n",
       "      <td>158.619995</td>\n",
       "      <td>153.822296</td>\n",
       "      <td>21116200</td>\n",
       "      <td>0.296295</td>\n",
       "      <td>-0.012452</td>\n",
       "      <td>1</td>\n",
       "      <td>0.0</td>\n",
       "    </tr>\n",
       "    <tr>\n",
       "      <th>2020-01-06</th>\n",
       "      <td>157.080002</td>\n",
       "      <td>159.100006</td>\n",
       "      <td>156.509995</td>\n",
       "      <td>159.029999</td>\n",
       "      <td>154.219894</td>\n",
       "      <td>20813700</td>\n",
       "      <td>0.972970</td>\n",
       "      <td>0.002585</td>\n",
       "      <td>0</td>\n",
       "      <td>1.0</td>\n",
       "    </tr>\n",
       "    <tr>\n",
       "      <th>2020-01-07</th>\n",
       "      <td>159.320007</td>\n",
       "      <td>159.669998</td>\n",
       "      <td>157.320007</td>\n",
       "      <td>157.580002</td>\n",
       "      <td>152.813766</td>\n",
       "      <td>21634100</td>\n",
       "      <td>0.110637</td>\n",
       "      <td>-0.009118</td>\n",
       "      <td>1</td>\n",
       "      <td>0.0</td>\n",
       "    </tr>\n",
       "  </tbody>\n",
       "</table>\n",
       "</div>"
      ],
      "text/plain": [
       "                  Open        High         Low       Close   Adj Close  \\\n",
       "Date                                                                     \n",
       "2019-12-31  156.770004  157.770004  156.449997  157.699997  152.930130   \n",
       "2020-01-02  158.779999  160.729996  158.330002  160.619995  155.761810   \n",
       "2020-01-03  158.320007  159.949997  158.059998  158.619995  153.822296   \n",
       "2020-01-06  157.080002  159.100006  156.509995  159.029999  154.219894   \n",
       "2020-01-07  159.320007  159.669998  157.320007  157.580002  152.813766   \n",
       "\n",
       "              Volume      CLHL    Return  holding  holding-1  \n",
       "Date                                                          \n",
       "2019-12-31  18369400  0.946965       NaN        0        NaN  \n",
       "2020-01-02  22622100  0.954166  0.018516        0        0.0  \n",
       "2020-01-03  21116200  0.296295 -0.012452        1        0.0  \n",
       "2020-01-06  20813700  0.972970  0.002585        0        1.0  \n",
       "2020-01-07  21634100  0.110637 -0.009118        1        0.0  "
      ]
     },
     "execution_count": 202,
     "metadata": {},
     "output_type": "execute_result"
    }
   ],
   "source": [
    "df_data.head(5)"
   ]
  },
  {
   "cell_type": "code",
   "execution_count": 203,
   "metadata": {},
   "outputs": [],
   "source": [
    "'''Calculate the profit and loss, sharp rqatio, and trading days'''\n",
    "df_data['pnl'] = df_data['Return'] * df_data['holding-1'] - tc * abs(df_data['holding'] - df_data['holding-1'])\n",
    "sharp_ratio = df_data['pnl'].mean() / df_data['pnl'].std() * (252 ** 0.5)\n",
    "trading_days = df_data['holding'].sum()\n"
   ]
  },
  {
   "cell_type": "code",
   "execution_count": 204,
   "metadata": {},
   "outputs": [
    {
     "data": {
      "text/plain": [
       "-0.8488583229404678"
      ]
     },
     "execution_count": 204,
     "metadata": {},
     "output_type": "execute_result"
    }
   ],
   "source": [
    "sharp_ratio"
   ]
  },
  {
   "cell_type": "code",
   "execution_count": 205,
   "metadata": {},
   "outputs": [
    {
     "data": {
      "text/plain": [
       "393"
      ]
     },
     "execution_count": 205,
     "metadata": {},
     "output_type": "execute_result"
    }
   ],
   "source": [
    "trading_days"
   ]
  },
  {
   "cell_type": "code",
   "execution_count": 206,
   "metadata": {},
   "outputs": [],
   "source": [
    "'''Define a function to calculate the CLHL strategy performance for a given threshold and transaction cost'''\n",
    "def calculate_clhl(clhl_threshold, data, tc=0.0005):\n",
    "    df_data = data.copy()\n",
    "    df_data['CLHL'] = (df_data['Close'] - df_data['Low']) / (df_data['High'] - df_data['Low'])\n",
    "    df_data['Return'] = df_data['Close'].pct_change()\n",
    "\n",
    "    df_data['holding'] = df_data['CLHL'] < clhl_threshold\n",
    "    df_data['holding'] = df_data['holding'].astype(int)\n",
    "    df_data['holding-1'] = df_data['holding'].shift(1)\n",
    "    df_data['signal'] = df_data['holding'] - df_data['holding-1']\n",
    "\n",
    "    df_data['pnl'] = df_data['Return'] * df_data['holding-1'] - tc * abs(df_data['holding'] - df_data['holding-1'])\n",
    "    df_data['pnl_cum'] = df_data['pnl'].cumsum()\n",
    "    df_data['ret_cum'] = df_data['Return'].cumsum()\n",
    "    sharp_ratio = df_data['pnl'].mean() / df_data['pnl'].std() * (252 ** 0.5)\n",
    "    trading_days = df_data['holding'].sum()\n",
    "\n",
    "    return sharp_ratio, trading_days, df_data"
   ]
  },
  {
   "cell_type": "code",
   "execution_count": 207,
   "metadata": {},
   "outputs": [],
   "source": [
    "'''Calcuate CLHL threshold and the corresponding sharp ratio and trading days iteratively'''\n",
    "clhl_thresholds = [0.01 * i for i in range(1, 100)]\n",
    "sharp_ratios = []\n",
    "trading_days = []\n",
    "\n",
    "for clhl_threshold in clhl_thresholds:\n",
    "    sharp_ratio, trading_day, df_new = calculate_clhl(clhl_threshold, df_data)\n",
    "    sharp_ratios.append(sharp_ratio)\n",
    "    trading_days.append(trading_day)\n"
   ]
  },
  {
   "cell_type": "code",
   "execution_count": 208,
   "metadata": {},
   "outputs": [
    {
     "data": {
      "text/plain": [
       "[<matplotlib.lines.Line2D at 0x133b4f610>]"
      ]
     },
     "execution_count": 208,
     "metadata": {},
     "output_type": "execute_result"
    },
    {
     "data": {
      "image/png": "[encoded data removed]",
      "text/plain": [
       "<Figure size 640x480 with 1 Axes>"
      ]
     },
     "metadata": {},
     "output_type": "display_data"
    }
   ],
   "source": [
    "import matplotlib.pyplot as plt\n",
    "plt.plot(clhl_thresholds, sharp_ratios, label='sharp ratio')"
   ]
  },
  {
   "cell_type": "code",
   "execution_count": 209,
   "metadata": {},
   "outputs": [],
   "source": [
    "'''Combine the clhl thresholds, sharp ratio, trading days to dataframe'''\n",
    "df_result = pd.DataFrame({'clhl_threshold': clhl_thresholds, 'sharp_ratio': sharp_ratios, 'trading_days': trading_days})"
   ]
  },
  {
   "cell_type": "code",
   "execution_count": 210,
   "metadata": {},
   "outputs": [
    {
     "data": {
      "text/html": [
       "<div>\n",
       "<style scoped>\n",
       "    .dataframe tbody tr th:only-of-type {\n",
       "        vertical-align: middle;\n",
       "    }\n",
       "\n",
       "    .dataframe tbody tr th {\n",
       "        vertical-align: top;\n",
       "    }\n",
       "\n",
       "    .dataframe thead th {\n",
       "        text-align: right;\n",
       "    }\n",
       "</style>\n",
       "<table border=\"1\" class=\"dataframe\">\n",
       "  <thead>\n",
       "    <tr style=\"text-align: right;\">\n",
       "      <th></th>\n",
       "      <th>clhl_threshold</th>\n",
       "      <th>sharp_ratio</th>\n",
       "      <th>trading_days</th>\n",
       "    </tr>\n",
       "  </thead>\n",
       "  <tbody>\n",
       "    <tr>\n",
       "      <th>0</th>\n",
       "      <td>0.01</td>\n",
       "      <td>0.277404</td>\n",
       "      <td>4</td>\n",
       "    </tr>\n",
       "    <tr>\n",
       "      <th>1</th>\n",
       "      <td>0.02</td>\n",
       "      <td>0.179778</td>\n",
       "      <td>12</td>\n",
       "    </tr>\n",
       "    <tr>\n",
       "      <th>2</th>\n",
       "      <td>0.03</td>\n",
       "      <td>0.876437</td>\n",
       "      <td>21</td>\n",
       "    </tr>\n",
       "    <tr>\n",
       "      <th>3</th>\n",
       "      <td>0.04</td>\n",
       "      <td>1.035589</td>\n",
       "      <td>30</td>\n",
       "    </tr>\n",
       "    <tr>\n",
       "      <th>4</th>\n",
       "      <td>0.05</td>\n",
       "      <td>1.080480</td>\n",
       "      <td>50</td>\n",
       "    </tr>\n",
       "  </tbody>\n",
       "</table>\n",
       "</div>"
      ],
      "text/plain": [
       "   clhl_threshold  sharp_ratio  trading_days\n",
       "0            0.01     0.277404             4\n",
       "1            0.02     0.179778            12\n",
       "2            0.03     0.876437            21\n",
       "3            0.04     1.035589            30\n",
       "4            0.05     1.080480            50"
      ]
     },
     "execution_count": 210,
     "metadata": {},
     "output_type": "execute_result"
    }
   ],
   "source": [
    "df_result.head()"
   ]
  },
  {
   "cell_type": "code",
   "execution_count": 211,
   "metadata": {},
   "outputs": [],
   "source": [
    "'''Sort the df_result by sharp_ratio'''\n",
    "df_result = df_result.sort_values(by='sharp_ratio', ascending=False)"
   ]
  },
  {
   "cell_type": "code",
   "execution_count": 212,
   "metadata": {},
   "outputs": [
    {
     "data": {
      "text/html": [
       "<div>\n",
       "<style scoped>\n",
       "    .dataframe tbody tr th:only-of-type {\n",
       "        vertical-align: middle;\n",
       "    }\n",
       "\n",
       "    .dataframe tbody tr th {\n",
       "        vertical-align: top;\n",
       "    }\n",
       "\n",
       "    .dataframe thead th {\n",
       "        text-align: right;\n",
       "    }\n",
       "</style>\n",
       "<table border=\"1\" class=\"dataframe\">\n",
       "  <thead>\n",
       "    <tr style=\"text-align: right;\">\n",
       "      <th></th>\n",
       "      <th>clhl_threshold</th>\n",
       "      <th>sharp_ratio</th>\n",
       "      <th>trading_days</th>\n",
       "    </tr>\n",
       "  </thead>\n",
       "  <tbody>\n",
       "    <tr>\n",
       "      <th>30</th>\n",
       "      <td>0.31</td>\n",
       "      <td>1.677813</td>\n",
       "      <td>263</td>\n",
       "    </tr>\n",
       "    <tr>\n",
       "      <th>28</th>\n",
       "      <td>0.29</td>\n",
       "      <td>1.617263</td>\n",
       "      <td>252</td>\n",
       "    </tr>\n",
       "    <tr>\n",
       "      <th>27</th>\n",
       "      <td>0.28</td>\n",
       "      <td>1.614915</td>\n",
       "      <td>248</td>\n",
       "    </tr>\n",
       "    <tr>\n",
       "      <th>31</th>\n",
       "      <td>0.32</td>\n",
       "      <td>1.607468</td>\n",
       "      <td>271</td>\n",
       "    </tr>\n",
       "    <tr>\n",
       "      <th>29</th>\n",
       "      <td>0.30</td>\n",
       "      <td>1.599384</td>\n",
       "      <td>256</td>\n",
       "    </tr>\n",
       "    <tr>\n",
       "      <th>...</th>\n",
       "      <td>...</td>\n",
       "      <td>...</td>\n",
       "      <td>...</td>\n",
       "    </tr>\n",
       "    <tr>\n",
       "      <th>93</th>\n",
       "      <td>0.94</td>\n",
       "      <td>0.771860</td>\n",
       "      <td>737</td>\n",
       "    </tr>\n",
       "    <tr>\n",
       "      <th>95</th>\n",
       "      <td>0.96</td>\n",
       "      <td>0.750630</td>\n",
       "      <td>774</td>\n",
       "    </tr>\n",
       "    <tr>\n",
       "      <th>96</th>\n",
       "      <td>0.97</td>\n",
       "      <td>0.733343</td>\n",
       "      <td>795</td>\n",
       "    </tr>\n",
       "    <tr>\n",
       "      <th>0</th>\n",
       "      <td>0.01</td>\n",
       "      <td>0.277404</td>\n",
       "      <td>4</td>\n",
       "    </tr>\n",
       "    <tr>\n",
       "      <th>1</th>\n",
       "      <td>0.02</td>\n",
       "      <td>0.179778</td>\n",
       "      <td>12</td>\n",
       "    </tr>\n",
       "  </tbody>\n",
       "</table>\n",
       "<p>99 rows × 3 columns</p>\n",
       "</div>"
      ],
      "text/plain": [
       "    clhl_threshold  sharp_ratio  trading_days\n",
       "30            0.31     1.677813           263\n",
       "28            0.29     1.617263           252\n",
       "27            0.28     1.614915           248\n",
       "31            0.32     1.607468           271\n",
       "29            0.30     1.599384           256\n",
       "..             ...          ...           ...\n",
       "93            0.94     0.771860           737\n",
       "95            0.96     0.750630           774\n",
       "96            0.97     0.733343           795\n",
       "0             0.01     0.277404             4\n",
       "1             0.02     0.179778            12\n",
       "\n",
       "[99 rows x 3 columns]"
      ]
     },
     "execution_count": 212,
     "metadata": {},
     "output_type": "execute_result"
    }
   ],
   "source": [
    "'''Find the clhl_threshold with highest sharp_ratio'''\n",
    "df_result"
   ]
  },
  {
   "cell_type": "code",
   "execution_count": 213,
   "metadata": {},
   "outputs": [],
   "source": [
    "'''Pick the best clhl_threshold'''\n",
    "clhl_threshold_best = df_result.iloc[0]['clhl_threshold']\n",
    "df_best  = calculate_clhl(clhl_threshold_best, df_data)"
   ]
  },
  {
   "cell_type": "code",
   "execution_count": 214,
   "metadata": {},
   "outputs": [
    {
     "data": {
      "text/plain": [
       "0.31"
      ]
     },
     "execution_count": 214,
     "metadata": {},
     "output_type": "execute_result"
    }
   ],
   "source": [
    "clhl_threshold_best"
   ]
  },
  {
   "cell_type": "code",
   "execution_count": 215,
   "metadata": {},
   "outputs": [
    {
     "data": {
      "text/plain": [
       "<Axes: title={'center': 'CLHL vs Buy and Hold'}, xlabel='Date', ylabel='Return'>"
      ]
     },
     "execution_count": 215,
     "metadata": {},
     "output_type": "execute_result"
    },
    {
     "data": {
      "image/png": "[encoded data removed]",
      "text/plain": [
       "<Figure size 1000x600 with 1 Axes>"
      ]
     },
     "metadata": {},
     "output_type": "display_data"
    }
   ],
   "source": [
    "'''Compare the clhl return vs buy and hold return'''\n",
    "df_best[2][['pnl_cum', 'ret_cum']].plot(title='CLHL vs Buy and Hold', ylabel=\"Return\", xlabel='Date' ,figsize=(10, 6))"
   ]
  },
  {
   "attachments": {},
   "cell_type": "markdown",
   "metadata": {},
   "source": [
    "The close low and high low strategy does better than job than the buy and hold."
   ]
  }
 ],
 "metadata": {
  "kernelspec": {
   "display_name": "openai-file-py11",
   "language": "python",
   "name": "python3"
  },
  "language_info": {
   "codemirror_mode": {
    "name": "ipython",
    "version": 3
   },
   "file_extension": ".py",
   "mimetype": "text/x-python",
   "name": "python",
   "nbconvert_exporter": "python",
   "pygments_lexer": "ipython3",
   "version": "3.11.0"
  },
  "orig_nbformat": 4
 },
 "nbformat": 4,
 "nbformat_minor": 2
}
