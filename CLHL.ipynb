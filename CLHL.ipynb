{
 "cells": [
  {
   "attachments": {},
   "cell_type": "markdown",
   "metadata": {},
   "source": [
    "Get stock data from yahoo finance"
   ]
  },
  {
   "cell_type": "code",
   "execution_count": 407,
   "metadata": {},
   "outputs": [],
   "source": [
    "from datetime import datetime\n",
    "import pandas as pd"
   ]
  },
  {
   "cell_type": "code",
   "execution_count": 408,
   "metadata": {},
   "outputs": [],
   "source": [
    "'''Convert date to the epoch time'''\n",
    "def date_to_epoch(date):\n",
    "    return int(date.timestamp())"
   ]
  },
  {
   "cell_type": "code",
   "execution_count": 409,
   "metadata": {},
   "outputs": [],
   "source": [
    "import pandas as pd\n",
    "'''Get the public stock price data for a given ticker'''\n",
    "def get_stock_price(ticker:str, start_date :datetime, end_date :datetime) -> pd.DataFrame:\n",
    "    if not start_date:\n",
    "        start_date = datetime(2020, 1, 1)\n",
    "    if not end_date:\n",
    "        end_date = datetime.now()\n",
    "\n",
    "    url = f\"https://query1.finance.yahoo.com/v7/finance/download/{ticker}?period1={date_to_epoch(start_date)}&period2={date_to_epoch(end_date)}&interval=1d&events=history&includeAdjustedClose=true\"\n",
    "    df = pd.read_csv(url)\n",
    "    df = df.set_index(\"Date\")\n",
    "    df.index = pd.to_datetime(df.index)\n",
    "    return df\n",
    "        "
   ]
  },
  {
   "cell_type": "code",
   "execution_count": 410,
   "metadata": {},
   "outputs": [],
   "source": [
    "df_data = get_stock_price(\"MSFT\", datetime(2020, 1, 1), datetime.now())"
   ]
  },
  {
   "cell_type": "code",
   "execution_count": 411,
   "metadata": {},
   "outputs": [
    {
     "name": "stdout",
     "output_type": "stream",
     "text": [
      "<class 'pandas.core.frame.DataFrame'>\n",
      "DatetimeIndex: 844 entries, 2019-12-31 to 2023-05-08\n",
      "Data columns (total 6 columns):\n",
      " #   Column     Non-Null Count  Dtype  \n",
      "---  ------     --------------  -----  \n",
      " 0   Open       844 non-null    float64\n",
      " 1   High       844 non-null    float64\n",
      " 2   Low        844 non-null    float64\n",
      " 3   Close      844 non-null    float64\n",
      " 4   Adj Close  844 non-null    float64\n",
      " 5   Volume     844 non-null    int64  \n",
      "dtypes: float64(5), int64(1)\n",
      "memory usage: 46.2 KB\n"
     ]
    }
   ],
   "source": [
    "df_data.info()"
   ]
  },
  {
   "cell_type": "code",
   "execution_count": 412,
   "metadata": {},
   "outputs": [
    {
     "data": {
      "text/html": [
       "<div>\n",
       "<style scoped>\n",
       "    .dataframe tbody tr th:only-of-type {\n",
       "        vertical-align: middle;\n",
       "    }\n",
       "\n",
       "    .dataframe tbody tr th {\n",
       "        vertical-align: top;\n",
       "    }\n",
       "\n",
       "    .dataframe thead th {\n",
       "        text-align: right;\n",
       "    }\n",
       "</style>\n",
       "<table border=\"1\" class=\"dataframe\">\n",
       "  <thead>\n",
       "    <tr style=\"text-align: right;\">\n",
       "      <th></th>\n",
       "      <th>Open</th>\n",
       "      <th>High</th>\n",
       "      <th>Low</th>\n",
       "      <th>Close</th>\n",
       "      <th>Adj Close</th>\n",
       "      <th>Volume</th>\n",
       "    </tr>\n",
       "    <tr>\n",
       "      <th>Date</th>\n",
       "      <th></th>\n",
       "      <th></th>\n",
       "      <th></th>\n",
       "      <th></th>\n",
       "      <th></th>\n",
       "      <th></th>\n",
       "    </tr>\n",
       "  </thead>\n",
       "  <tbody>\n",
       "    <tr>\n",
       "      <th>2019-12-31</th>\n",
       "      <td>156.770004</td>\n",
       "      <td>157.770004</td>\n",
       "      <td>156.449997</td>\n",
       "      <td>157.699997</td>\n",
       "      <td>152.930145</td>\n",
       "      <td>18369400</td>\n",
       "    </tr>\n",
       "    <tr>\n",
       "      <th>2020-01-02</th>\n",
       "      <td>158.779999</td>\n",
       "      <td>160.729996</td>\n",
       "      <td>158.330002</td>\n",
       "      <td>160.619995</td>\n",
       "      <td>155.761810</td>\n",
       "      <td>22622100</td>\n",
       "    </tr>\n",
       "    <tr>\n",
       "      <th>2020-01-03</th>\n",
       "      <td>158.320007</td>\n",
       "      <td>159.949997</td>\n",
       "      <td>158.059998</td>\n",
       "      <td>158.619995</td>\n",
       "      <td>153.822311</td>\n",
       "      <td>21116200</td>\n",
       "    </tr>\n",
       "    <tr>\n",
       "      <th>2020-01-06</th>\n",
       "      <td>157.080002</td>\n",
       "      <td>159.100006</td>\n",
       "      <td>156.509995</td>\n",
       "      <td>159.029999</td>\n",
       "      <td>154.219879</td>\n",
       "      <td>20813700</td>\n",
       "    </tr>\n",
       "    <tr>\n",
       "      <th>2020-01-07</th>\n",
       "      <td>159.320007</td>\n",
       "      <td>159.669998</td>\n",
       "      <td>157.320007</td>\n",
       "      <td>157.580002</td>\n",
       "      <td>152.813736</td>\n",
       "      <td>21634100</td>\n",
       "    </tr>\n",
       "  </tbody>\n",
       "</table>\n",
       "</div>"
      ],
      "text/plain": [
       "                  Open        High         Low       Close   Adj Close  \\\n",
       "Date                                                                     \n",
       "2019-12-31  156.770004  157.770004  156.449997  157.699997  152.930145   \n",
       "2020-01-02  158.779999  160.729996  158.330002  160.619995  155.761810   \n",
       "2020-01-03  158.320007  159.949997  158.059998  158.619995  153.822311   \n",
       "2020-01-06  157.080002  159.100006  156.509995  159.029999  154.219879   \n",
       "2020-01-07  159.320007  159.669998  157.320007  157.580002  152.813736   \n",
       "\n",
       "              Volume  \n",
       "Date                  \n",
       "2019-12-31  18369400  \n",
       "2020-01-02  22622100  \n",
       "2020-01-03  21116200  \n",
       "2020-01-06  20813700  \n",
       "2020-01-07  21634100  "
      ]
     },
     "execution_count": 412,
     "metadata": {},
     "output_type": "execute_result"
    }
   ],
   "source": [
    "df_data.head()"
   ]
  },
  {
   "cell_type": "code",
   "execution_count": 413,
   "metadata": {},
   "outputs": [
    {
     "data": {
      "text/html": [
       "<div>\n",
       "<style scoped>\n",
       "    .dataframe tbody tr th:only-of-type {\n",
       "        vertical-align: middle;\n",
       "    }\n",
       "\n",
       "    .dataframe tbody tr th {\n",
       "        vertical-align: top;\n",
       "    }\n",
       "\n",
       "    .dataframe thead th {\n",
       "        text-align: right;\n",
       "    }\n",
       "</style>\n",
       "<table border=\"1\" class=\"dataframe\">\n",
       "  <thead>\n",
       "    <tr style=\"text-align: right;\">\n",
       "      <th></th>\n",
       "      <th>Open</th>\n",
       "      <th>High</th>\n",
       "      <th>Low</th>\n",
       "      <th>Close</th>\n",
       "      <th>Adj Close</th>\n",
       "      <th>Volume</th>\n",
       "    </tr>\n",
       "    <tr>\n",
       "      <th>Date</th>\n",
       "      <th></th>\n",
       "      <th></th>\n",
       "      <th></th>\n",
       "      <th></th>\n",
       "      <th></th>\n",
       "      <th></th>\n",
       "    </tr>\n",
       "  </thead>\n",
       "  <tbody>\n",
       "    <tr>\n",
       "      <th>2023-05-02</th>\n",
       "      <td>307.760010</td>\n",
       "      <td>309.179993</td>\n",
       "      <td>303.910004</td>\n",
       "      <td>305.410004</td>\n",
       "      <td>305.410004</td>\n",
       "      <td>26404400</td>\n",
       "    </tr>\n",
       "    <tr>\n",
       "      <th>2023-05-03</th>\n",
       "      <td>306.619995</td>\n",
       "      <td>308.609985</td>\n",
       "      <td>304.089996</td>\n",
       "      <td>304.399994</td>\n",
       "      <td>304.399994</td>\n",
       "      <td>22360800</td>\n",
       "    </tr>\n",
       "    <tr>\n",
       "      <th>2023-05-04</th>\n",
       "      <td>306.239990</td>\n",
       "      <td>307.760010</td>\n",
       "      <td>303.399994</td>\n",
       "      <td>305.410004</td>\n",
       "      <td>305.410004</td>\n",
       "      <td>22519900</td>\n",
       "    </tr>\n",
       "    <tr>\n",
       "      <th>2023-05-05</th>\n",
       "      <td>305.720001</td>\n",
       "      <td>311.970001</td>\n",
       "      <td>304.269989</td>\n",
       "      <td>310.649994</td>\n",
       "      <td>310.649994</td>\n",
       "      <td>28181200</td>\n",
       "    </tr>\n",
       "    <tr>\n",
       "      <th>2023-05-08</th>\n",
       "      <td>310.130005</td>\n",
       "      <td>310.200012</td>\n",
       "      <td>306.089996</td>\n",
       "      <td>308.649994</td>\n",
       "      <td>308.649994</td>\n",
       "      <td>21306900</td>\n",
       "    </tr>\n",
       "  </tbody>\n",
       "</table>\n",
       "</div>"
      ],
      "text/plain": [
       "                  Open        High         Low       Close   Adj Close  \\\n",
       "Date                                                                     \n",
       "2023-05-02  307.760010  309.179993  303.910004  305.410004  305.410004   \n",
       "2023-05-03  306.619995  308.609985  304.089996  304.399994  304.399994   \n",
       "2023-05-04  306.239990  307.760010  303.399994  305.410004  305.410004   \n",
       "2023-05-05  305.720001  311.970001  304.269989  310.649994  310.649994   \n",
       "2023-05-08  310.130005  310.200012  306.089996  308.649994  308.649994   \n",
       "\n",
       "              Volume  \n",
       "Date                  \n",
       "2023-05-02  26404400  \n",
       "2023-05-03  22360800  \n",
       "2023-05-04  22519900  \n",
       "2023-05-05  28181200  \n",
       "2023-05-08  21306900  "
      ]
     },
     "execution_count": 413,
     "metadata": {},
     "output_type": "execute_result"
    }
   ],
   "source": [
    "df_data.tail()"
   ]
  },
  {
   "cell_type": "code",
   "execution_count": 414,
   "metadata": {},
   "outputs": [
    {
     "data": {
      "text/html": [
       "<div>\n",
       "<style scoped>\n",
       "    .dataframe tbody tr th:only-of-type {\n",
       "        vertical-align: middle;\n",
       "    }\n",
       "\n",
       "    .dataframe tbody tr th {\n",
       "        vertical-align: top;\n",
       "    }\n",
       "\n",
       "    .dataframe thead th {\n",
       "        text-align: right;\n",
       "    }\n",
       "</style>\n",
       "<table border=\"1\" class=\"dataframe\">\n",
       "  <thead>\n",
       "    <tr style=\"text-align: right;\">\n",
       "      <th></th>\n",
       "      <th>Open</th>\n",
       "      <th>High</th>\n",
       "      <th>Low</th>\n",
       "      <th>Close</th>\n",
       "      <th>Adj Close</th>\n",
       "      <th>Volume</th>\n",
       "    </tr>\n",
       "  </thead>\n",
       "  <tbody>\n",
       "    <tr>\n",
       "      <th>count</th>\n",
       "      <td>844.000000</td>\n",
       "      <td>844.000000</td>\n",
       "      <td>844.000000</td>\n",
       "      <td>844.000000</td>\n",
       "      <td>844.000000</td>\n",
       "      <td>8.440000e+02</td>\n",
       "    </tr>\n",
       "    <tr>\n",
       "      <th>mean</th>\n",
       "      <td>247.718531</td>\n",
       "      <td>250.515201</td>\n",
       "      <td>244.885379</td>\n",
       "      <td>247.829123</td>\n",
       "      <td>244.498424</td>\n",
       "      <td>3.158820e+07</td>\n",
       "    </tr>\n",
       "    <tr>\n",
       "      <th>std</th>\n",
       "      <td>46.184296</td>\n",
       "      <td>46.228201</td>\n",
       "      <td>45.907819</td>\n",
       "      <td>46.117691</td>\n",
       "      <td>46.679300</td>\n",
       "      <td>1.328659e+07</td>\n",
       "    </tr>\n",
       "    <tr>\n",
       "      <th>min</th>\n",
       "      <td>137.009995</td>\n",
       "      <td>140.570007</td>\n",
       "      <td>132.520004</td>\n",
       "      <td>135.419998</td>\n",
       "      <td>131.682693</td>\n",
       "      <td>9.200800e+06</td>\n",
       "    </tr>\n",
       "    <tr>\n",
       "      <th>25%</th>\n",
       "      <td>214.332496</td>\n",
       "      <td>216.362495</td>\n",
       "      <td>212.452503</td>\n",
       "      <td>214.312503</td>\n",
       "      <td>209.904571</td>\n",
       "      <td>2.289520e+07</td>\n",
       "    </tr>\n",
       "    <tr>\n",
       "      <th>50%</th>\n",
       "      <td>247.869996</td>\n",
       "      <td>251.019996</td>\n",
       "      <td>245.825005</td>\n",
       "      <td>248.735001</td>\n",
       "      <td>246.888809</td>\n",
       "      <td>2.833020e+07</td>\n",
       "    </tr>\n",
       "    <tr>\n",
       "      <th>75%</th>\n",
       "      <td>284.094994</td>\n",
       "      <td>287.629997</td>\n",
       "      <td>280.504989</td>\n",
       "      <td>284.012497</td>\n",
       "      <td>281.709702</td>\n",
       "      <td>3.542355e+07</td>\n",
       "    </tr>\n",
       "    <tr>\n",
       "      <th>max</th>\n",
       "      <td>344.619995</td>\n",
       "      <td>349.670013</td>\n",
       "      <td>342.200012</td>\n",
       "      <td>343.109985</td>\n",
       "      <td>339.075531</td>\n",
       "      <td>9.701270e+07</td>\n",
       "    </tr>\n",
       "  </tbody>\n",
       "</table>\n",
       "</div>"
      ],
      "text/plain": [
       "             Open        High         Low       Close   Adj Close  \\\n",
       "count  844.000000  844.000000  844.000000  844.000000  844.000000   \n",
       "mean   247.718531  250.515201  244.885379  247.829123  244.498424   \n",
       "std     46.184296   46.228201   45.907819   46.117691   46.679300   \n",
       "min    137.009995  140.570007  132.520004  135.419998  131.682693   \n",
       "25%    214.332496  216.362495  212.452503  214.312503  209.904571   \n",
       "50%    247.869996  251.019996  245.825005  248.735001  246.888809   \n",
       "75%    284.094994  287.629997  280.504989  284.012497  281.709702   \n",
       "max    344.619995  349.670013  342.200012  343.109985  339.075531   \n",
       "\n",
       "             Volume  \n",
       "count  8.440000e+02  \n",
       "mean   3.158820e+07  \n",
       "std    1.328659e+07  \n",
       "min    9.200800e+06  \n",
       "25%    2.289520e+07  \n",
       "50%    2.833020e+07  \n",
       "75%    3.542355e+07  \n",
       "max    9.701270e+07  "
      ]
     },
     "execution_count": 414,
     "metadata": {},
     "output_type": "execute_result"
    }
   ],
   "source": [
    "df_data.describe()"
   ]
  },
  {
   "cell_type": "code",
   "execution_count": 415,
   "metadata": {},
   "outputs": [
    {
     "data": {
      "text/plain": [
       "<Axes: xlabel='Date'>"
      ]
     },
     "execution_count": 415,
     "metadata": {},
     "output_type": "execute_result"
    },
    {
     "data": {
      "image/png": "[encoded data removed]",
      "text/plain": [
       "<Figure size 640x480 with 1 Axes>"
      ]
     },
     "metadata": {},
     "output_type": "display_data"
    }
   ],
   "source": [
    "df_data['Close'].plot()"
   ]
  },
  {
   "attachments": {},
   "cell_type": "markdown",
   "metadata": {},
   "source": [
    "We generate the trading strategy base on the CLHL\n",
    "It is the close price minus the low price divided by the high price minus the low price.\n",
    "\n",
    "Define the threshold and if the clhl is lower than the threshold, hold the stock, otherwise don't hold it.\n"
   ]
  },
  {
   "cell_type": "code",
   "execution_count": 416,
   "metadata": {},
   "outputs": [],
   "source": [
    "clhl_threshold = 0.5\n",
    "tc = 0.005  # transaction cost\n",
    "df_data['CLHL'] = (df_data['Close'] - df_data['Low']) / (df_data['High'] - df_data['Low'])\n",
    "df_data['Return'] = df_data['Close'].pct_change()"
   ]
  },
  {
   "cell_type": "code",
   "execution_count": 417,
   "metadata": {},
   "outputs": [],
   "source": [
    "df_data['holding'] = df_data['CLHL'] < clhl_threshold\n",
    "df_data['holding'] = df_data['holding'].astype(int)\n",
    "df_data['holding-1'] = df_data['holding'].shift(1)"
   ]
  },
  {
   "cell_type": "code",
   "execution_count": 418,
   "metadata": {},
   "outputs": [
    {
     "data": {
      "text/html": [
       "<div>\n",
       "<style scoped>\n",
       "    .dataframe tbody tr th:only-of-type {\n",
       "        vertical-align: middle;\n",
       "    }\n",
       "\n",
       "    .dataframe tbody tr th {\n",
       "        vertical-align: top;\n",
       "    }\n",
       "\n",
       "    .dataframe thead th {\n",
       "        text-align: right;\n",
       "    }\n",
       "</style>\n",
       "<table border=\"1\" class=\"dataframe\">\n",
       "  <thead>\n",
       "    <tr style=\"text-align: right;\">\n",
       "      <th></th>\n",
       "      <th>Open</th>\n",
       "      <th>High</th>\n",
       "      <th>Low</th>\n",
       "      <th>Close</th>\n",
       "      <th>Adj Close</th>\n",
       "      <th>Volume</th>\n",
       "      <th>CLHL</th>\n",
       "      <th>Return</th>\n",
       "      <th>holding</th>\n",
       "      <th>holding-1</th>\n",
       "    </tr>\n",
       "    <tr>\n",
       "      <th>Date</th>\n",
       "      <th></th>\n",
       "      <th></th>\n",
       "      <th></th>\n",
       "      <th></th>\n",
       "      <th></th>\n",
       "      <th></th>\n",
       "      <th></th>\n",
       "      <th></th>\n",
       "      <th></th>\n",
       "      <th></th>\n",
       "    </tr>\n",
       "  </thead>\n",
       "  <tbody>\n",
       "    <tr>\n",
       "      <th>2019-12-31</th>\n",
       "      <td>156.770004</td>\n",
       "      <td>157.770004</td>\n",
       "      <td>156.449997</td>\n",
       "      <td>157.699997</td>\n",
       "      <td>152.930145</td>\n",
       "      <td>18369400</td>\n",
       "      <td>0.946965</td>\n",
       "      <td>NaN</td>\n",
       "      <td>0</td>\n",
       "      <td>NaN</td>\n",
       "    </tr>\n",
       "    <tr>\n",
       "      <th>2020-01-02</th>\n",
       "      <td>158.779999</td>\n",
       "      <td>160.729996</td>\n",
       "      <td>158.330002</td>\n",
       "      <td>160.619995</td>\n",
       "      <td>155.761810</td>\n",
       "      <td>22622100</td>\n",
       "      <td>0.954166</td>\n",
       "      <td>0.018516</td>\n",
       "      <td>0</td>\n",
       "      <td>0.0</td>\n",
       "    </tr>\n",
       "    <tr>\n",
       "      <th>2020-01-03</th>\n",
       "      <td>158.320007</td>\n",
       "      <td>159.949997</td>\n",
       "      <td>158.059998</td>\n",
       "      <td>158.619995</td>\n",
       "      <td>153.822311</td>\n",
       "      <td>21116200</td>\n",
       "      <td>0.296295</td>\n",
       "      <td>-0.012452</td>\n",
       "      <td>1</td>\n",
       "      <td>0.0</td>\n",
       "    </tr>\n",
       "    <tr>\n",
       "      <th>2020-01-06</th>\n",
       "      <td>157.080002</td>\n",
       "      <td>159.100006</td>\n",
       "      <td>156.509995</td>\n",
       "      <td>159.029999</td>\n",
       "      <td>154.219879</td>\n",
       "      <td>20813700</td>\n",
       "      <td>0.972970</td>\n",
       "      <td>0.002585</td>\n",
       "      <td>0</td>\n",
       "      <td>1.0</td>\n",
       "    </tr>\n",
       "    <tr>\n",
       "      <th>2020-01-07</th>\n",
       "      <td>159.320007</td>\n",
       "      <td>159.669998</td>\n",
       "      <td>157.320007</td>\n",
       "      <td>157.580002</td>\n",
       "      <td>152.813736</td>\n",
       "      <td>21634100</td>\n",
       "      <td>0.110637</td>\n",
       "      <td>-0.009118</td>\n",
       "      <td>1</td>\n",
       "      <td>0.0</td>\n",
       "    </tr>\n",
       "  </tbody>\n",
       "</table>\n",
       "</div>"
      ],
      "text/plain": [
       "                  Open        High         Low       Close   Adj Close  \\\n",
       "Date                                                                     \n",
       "2019-12-31  156.770004  157.770004  156.449997  157.699997  152.930145   \n",
       "2020-01-02  158.779999  160.729996  158.330002  160.619995  155.761810   \n",
       "2020-01-03  158.320007  159.949997  158.059998  158.619995  153.822311   \n",
       "2020-01-06  157.080002  159.100006  156.509995  159.029999  154.219879   \n",
       "2020-01-07  159.320007  159.669998  157.320007  157.580002  152.813736   \n",
       "\n",
       "              Volume      CLHL    Return  holding  holding-1  \n",
       "Date                                                          \n",
       "2019-12-31  18369400  0.946965       NaN        0        NaN  \n",
       "2020-01-02  22622100  0.954166  0.018516        0        0.0  \n",
       "2020-01-03  21116200  0.296295 -0.012452        1        0.0  \n",
       "2020-01-06  20813700  0.972970  0.002585        0        1.0  \n",
       "2020-01-07  21634100  0.110637 -0.009118        1        0.0  "
      ]
     },
     "execution_count": 418,
     "metadata": {},
     "output_type": "execute_result"
    }
   ],
   "source": [
    "df_data.head(5)"
   ]
  },
  {
   "cell_type": "code",
   "execution_count": 419,
   "metadata": {},
   "outputs": [],
   "source": [
    "df_data['pnl'] = df_data['Return'] * df_data['holding-1'] - tc * abs(df_data['holding'] - df_data['holding-1'])\n",
    "sharp_ratio = df_data['pnl'].mean() / df_data['pnl'].std() * (252 ** 0.5)\n",
    "trading_days = df_data['holding'].sum()\n"
   ]
  },
  {
   "cell_type": "code",
   "execution_count": 420,
   "metadata": {},
   "outputs": [
    {
     "data": {
      "text/plain": [
       "-0.8593040288852933"
      ]
     },
     "execution_count": 420,
     "metadata": {},
     "output_type": "execute_result"
    }
   ],
   "source": [
    "sharp_ratio"
   ]
  },
  {
   "cell_type": "code",
   "execution_count": 421,
   "metadata": {},
   "outputs": [
    {
     "data": {
      "text/plain": [
       "392"
      ]
     },
     "execution_count": 421,
     "metadata": {},
     "output_type": "execute_result"
    }
   ],
   "source": [
    "trading_days"
   ]
  },
  {
   "cell_type": "code",
   "execution_count": 422,
   "metadata": {},
   "outputs": [],
   "source": [
    "'''Define a function to calculate the CLHL strategy performance for a given threshold and transaction cost'''\n",
    "def calculate_clhl(clhl_threshold, data, tc=0.0005):\n",
    "    df_data = data.copy()\n",
    "    df_data['CLHL'] = (df_data['Close'] - df_data['Low']) / (df_data['High'] - df_data['Low'])\n",
    "    df_data['Return'] = df_data['Close'].pct_change()\n",
    "\n",
    "    df_data['holding'] = df_data['CLHL'] < clhl_threshold\n",
    "    df_data['holding'] = df_data['holding'].astype(int)\n",
    "    df_data['holding-1'] = df_data['holding'].shift(1)\n",
    "    df_data['signal'] = df_data['holding'] - df_data['holding-1']\n",
    "\n",
    "    df_data['pnl'] = df_data['Return'] * df_data['holding-1'] - tc * abs(df_data['holding'] - df_data['holding-1'])\n",
    "    df_data['pnl_cum'] = df_data['pnl'].cumsum()\n",
    "    df_data['ret_cum'] = df_data['Return'].cumsum()\n",
    "    sharp_ratio = df_data['pnl'].mean() / df_data['pnl'].std() * (252 ** 0.5)\n",
    "    trading_days = df_data['holding'].sum()\n",
    "\n",
    "    return sharp_ratio, trading_days, df_data"
   ]
  },
  {
   "cell_type": "code",
   "execution_count": 423,
   "metadata": {},
   "outputs": [],
   "source": [
    "'''Calcuate CLHL threshold and the corresponding sharp ratio and trading days iteratively'''\n",
    "clhl_thresholds = [0.01 * i for i in range(1, 100)]\n",
    "sharp_ratios = []\n",
    "trading_days = []\n",
    "\n",
    "for clhl_threshold in clhl_thresholds:\n",
    "    sharp_ratio, trading_day, df_new = calculate_clhl(clhl_threshold, df_data)\n",
    "    sharp_ratios.append(sharp_ratio)\n",
    "    trading_days.append(trading_day)\n"
   ]
  },
  {
   "cell_type": "code",
   "execution_count": 424,
   "metadata": {},
   "outputs": [
    {
     "data": {
      "text/plain": [
       "[<matplotlib.lines.Line2D at 0x133279350>]"
      ]
     },
     "execution_count": 424,
     "metadata": {},
     "output_type": "execute_result"
    },
    {
     "data": {
      "image/png": "[encoded data removed]",
      "text/plain": [
       "<Figure size 640x480 with 1 Axes>"
      ]
     },
     "metadata": {},
     "output_type": "display_data"
    }
   ],
   "source": [
    "import matplotlib.pyplot as plt\n",
    "plt.plot(clhl_thresholds, sharp_ratios, label='sharp ratio')"
   ]
  },
  {
   "cell_type": "code",
   "execution_count": 425,
   "metadata": {},
   "outputs": [],
   "source": [
    "'''Combine the clhl thresholds, sharp ratio, trading days to dataframe'''\n",
    "df_result = pd.DataFrame({'clhl_threshold': clhl_thresholds, 'sharp_ratio': sharp_ratios, 'trading_days': trading_days})"
   ]
  },
  {
   "cell_type": "code",
   "execution_count": 426,
   "metadata": {},
   "outputs": [
    {
     "data": {
      "text/html": [
       "<div>\n",
       "<style scoped>\n",
       "    .dataframe tbody tr th:only-of-type {\n",
       "        vertical-align: middle;\n",
       "    }\n",
       "\n",
       "    .dataframe tbody tr th {\n",
       "        vertical-align: top;\n",
       "    }\n",
       "\n",
       "    .dataframe thead th {\n",
       "        text-align: right;\n",
       "    }\n",
       "</style>\n",
       "<table border=\"1\" class=\"dataframe\">\n",
       "  <thead>\n",
       "    <tr style=\"text-align: right;\">\n",
       "      <th></th>\n",
       "      <th>clhl_threshold</th>\n",
       "      <th>sharp_ratio</th>\n",
       "      <th>trading_days</th>\n",
       "    </tr>\n",
       "  </thead>\n",
       "  <tbody>\n",
       "    <tr>\n",
       "      <th>0</th>\n",
       "      <td>0.01</td>\n",
       "      <td>0.277733</td>\n",
       "      <td>4</td>\n",
       "    </tr>\n",
       "    <tr>\n",
       "      <th>1</th>\n",
       "      <td>0.02</td>\n",
       "      <td>0.179991</td>\n",
       "      <td>12</td>\n",
       "    </tr>\n",
       "    <tr>\n",
       "      <th>2</th>\n",
       "      <td>0.03</td>\n",
       "      <td>0.877478</td>\n",
       "      <td>21</td>\n",
       "    </tr>\n",
       "    <tr>\n",
       "      <th>3</th>\n",
       "      <td>0.04</td>\n",
       "      <td>1.036820</td>\n",
       "      <td>30</td>\n",
       "    </tr>\n",
       "    <tr>\n",
       "      <th>4</th>\n",
       "      <td>0.05</td>\n",
       "      <td>1.081766</td>\n",
       "      <td>50</td>\n",
       "    </tr>\n",
       "  </tbody>\n",
       "</table>\n",
       "</div>"
      ],
      "text/plain": [
       "   clhl_threshold  sharp_ratio  trading_days\n",
       "0            0.01     0.277733             4\n",
       "1            0.02     0.179991            12\n",
       "2            0.03     0.877478            21\n",
       "3            0.04     1.036820            30\n",
       "4            0.05     1.081766            50"
      ]
     },
     "execution_count": 426,
     "metadata": {},
     "output_type": "execute_result"
    }
   ],
   "source": [
    "df_result.head()"
   ]
  },
  {
   "cell_type": "code",
   "execution_count": 427,
   "metadata": {},
   "outputs": [],
   "source": [
    "'''sort the df_result by sharp_ratio'''\n",
    "df_result = df_result.sort_values(by='sharp_ratio', ascending=False)"
   ]
  },
  {
   "cell_type": "code",
   "execution_count": 428,
   "metadata": {},
   "outputs": [
    {
     "data": {
      "text/html": [
       "<div>\n",
       "<style scoped>\n",
       "    .dataframe tbody tr th:only-of-type {\n",
       "        vertical-align: middle;\n",
       "    }\n",
       "\n",
       "    .dataframe tbody tr th {\n",
       "        vertical-align: top;\n",
       "    }\n",
       "\n",
       "    .dataframe thead th {\n",
       "        text-align: right;\n",
       "    }\n",
       "</style>\n",
       "<table border=\"1\" class=\"dataframe\">\n",
       "  <thead>\n",
       "    <tr style=\"text-align: right;\">\n",
       "      <th></th>\n",
       "      <th>clhl_threshold</th>\n",
       "      <th>sharp_ratio</th>\n",
       "      <th>trading_days</th>\n",
       "    </tr>\n",
       "  </thead>\n",
       "  <tbody>\n",
       "    <tr>\n",
       "      <th>30</th>\n",
       "      <td>0.31</td>\n",
       "      <td>1.657627</td>\n",
       "      <td>262</td>\n",
       "    </tr>\n",
       "    <tr>\n",
       "      <th>28</th>\n",
       "      <td>0.29</td>\n",
       "      <td>1.596796</td>\n",
       "      <td>251</td>\n",
       "    </tr>\n",
       "    <tr>\n",
       "      <th>27</th>\n",
       "      <td>0.28</td>\n",
       "      <td>1.594433</td>\n",
       "      <td>247</td>\n",
       "    </tr>\n",
       "    <tr>\n",
       "      <th>31</th>\n",
       "      <td>0.32</td>\n",
       "      <td>1.587751</td>\n",
       "      <td>270</td>\n",
       "    </tr>\n",
       "    <tr>\n",
       "      <th>29</th>\n",
       "      <td>0.30</td>\n",
       "      <td>1.578927</td>\n",
       "      <td>255</td>\n",
       "    </tr>\n",
       "    <tr>\n",
       "      <th>...</th>\n",
       "      <td>...</td>\n",
       "      <td>...</td>\n",
       "      <td>...</td>\n",
       "    </tr>\n",
       "    <tr>\n",
       "      <th>93</th>\n",
       "      <td>0.94</td>\n",
       "      <td>0.762220</td>\n",
       "      <td>735</td>\n",
       "    </tr>\n",
       "    <tr>\n",
       "      <th>95</th>\n",
       "      <td>0.96</td>\n",
       "      <td>0.741047</td>\n",
       "      <td>772</td>\n",
       "    </tr>\n",
       "    <tr>\n",
       "      <th>96</th>\n",
       "      <td>0.97</td>\n",
       "      <td>0.723811</td>\n",
       "      <td>793</td>\n",
       "    </tr>\n",
       "    <tr>\n",
       "      <th>0</th>\n",
       "      <td>0.01</td>\n",
       "      <td>0.277733</td>\n",
       "      <td>4</td>\n",
       "    </tr>\n",
       "    <tr>\n",
       "      <th>1</th>\n",
       "      <td>0.02</td>\n",
       "      <td>0.179991</td>\n",
       "      <td>12</td>\n",
       "    </tr>\n",
       "  </tbody>\n",
       "</table>\n",
       "<p>99 rows × 3 columns</p>\n",
       "</div>"
      ],
      "text/plain": [
       "    clhl_threshold  sharp_ratio  trading_days\n",
       "30            0.31     1.657627           262\n",
       "28            0.29     1.596796           251\n",
       "27            0.28     1.594433           247\n",
       "31            0.32     1.587751           270\n",
       "29            0.30     1.578927           255\n",
       "..             ...          ...           ...\n",
       "93            0.94     0.762220           735\n",
       "95            0.96     0.741047           772\n",
       "96            0.97     0.723811           793\n",
       "0             0.01     0.277733             4\n",
       "1             0.02     0.179991            12\n",
       "\n",
       "[99 rows x 3 columns]"
      ]
     },
     "execution_count": 428,
     "metadata": {},
     "output_type": "execute_result"
    }
   ],
   "source": [
    "'''Find the best clhl_threshold'''\n",
    "df_result"
   ]
  },
  {
   "cell_type": "code",
   "execution_count": 429,
   "metadata": {},
   "outputs": [],
   "source": [
    "df_best  = calculate_clhl(0.31, df_data)"
   ]
  },
  {
   "cell_type": "code",
   "execution_count": 430,
   "metadata": {},
   "outputs": [
    {
     "data": {
      "text/plain": [
       "<Axes: xlabel='Date'>"
      ]
     },
     "execution_count": 430,
     "metadata": {},
     "output_type": "execute_result"
    },
    {
     "data": {
      "image/png": "[encoded data removed]",
      "text/plain": [
       "<Figure size 640x480 with 1 Axes>"
      ]
     },
     "metadata": {},
     "output_type": "display_data"
    }
   ],
   "source": [
    "'''compare the active trading return vs buy and hold return'''\n",
    "df_best[2][['pnl_cum', 'ret_cum']].plot()"
   ]
  },
  {
   "cell_type": "code",
   "execution_count": null,
   "metadata": {},
   "outputs": [],
   "source": []
  }
 ],
 "metadata": {
  "kernelspec": {
   "display_name": "openai-file-py11",
   "language": "python",
   "name": "python3"
  },
  "language_info": {
   "codemirror_mode": {
    "name": "ipython",
    "version": 3
   },
   "file_extension": ".py",
   "mimetype": "text/x-python",
   "name": "python",
   "nbconvert_exporter": "python",
   "pygments_lexer": "ipython3",
   "version": "3.11.0"
  },
  "orig_nbformat": 4
 },
 "nbformat": 4,
 "nbformat_minor": 2
}
